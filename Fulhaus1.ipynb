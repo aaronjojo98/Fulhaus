{
  "nbformat": 4,
  "nbformat_minor": 0,
  "metadata": {
    "colab": {
      "provenance": [],
      "mount_file_id": "1rCdTu_bduMggkz3NL7TGn6CrSvqz55fL",
      "authorship_tag": "ABX9TyNAe5TibvCyTQaQzOFwoOvt",
      "include_colab_link": true
    },
    "kernelspec": {
      "name": "python3",
      "display_name": "Python 3"
    },
    "language_info": {
      "name": "python"
    },
    "gpuClass": "standard"
  },
  "cells": [
    {
      "cell_type": "markdown",
      "metadata": {
        "id": "view-in-github",
        "colab_type": "text"
      },
      "source": [
        "<a href=\"https://colab.research.google.com/github/aaronjojo98/Fulhaus/blob/main/Fulhaus1.ipynb\" target=\"_parent\"><img src=\"https://colab.research.google.com/assets/colab-badge.svg\" alt=\"Open In Colab\"/></a>"
      ]
    },
    {
      "cell_type": "code",
      "execution_count": 312,
      "metadata": {
        "colab": {
          "base_uri": "https://localhost:8080/"
        },
        "id": "jnZD7c5zUFLK",
        "outputId": "21245d4a-8390-4a35-ad37-19346179bfde"
      },
      "outputs": [
        {
          "output_type": "stream",
          "name": "stdout",
          "text": [
            "Looking in indexes: https://pypi.org/simple, https://us-python.pkg.dev/colab-wheels/public/simple/\n",
            "Requirement already satisfied: split-folders in /usr/local/lib/python3.8/dist-packages (0.5.1)\n"
          ]
        }
      ],
      "source": [
        "!pip install split-folders\n",
        "import numpy as np\n",
        "import pandas as pd\n",
        "import os\n",
        "import glob\n",
        "import io\n",
        "import seaborn as sns\n",
        "from xgboost import XGBRegressor\n",
        "from google.colab import files\n",
        "from sklearn.model_selection import train_test_split, GridSearchCV\n",
        "from sklearn.pipeline import Pipeline\n",
        "from sklearn.linear_model import LinearRegression, Lasso, LogisticRegression\n",
        "from sklearn import datasets, linear_model\n",
        "from sklearn.preprocessing import StandardScaler\n",
        "from sklearn.metrics import r2_score, mean_squared_error, mean_absolute_error, explained_variance_score\n",
        "from sklearn.impute import SimpleImputer\n",
        "from sklearn.svm import SVR, LinearSVR\n",
        "from sklearn.ensemble import RandomForestRegressor\n",
        "from sklearn.neighbors import KNeighborsRegressor\n",
        "import statsmodels.api as sm\n",
        "import matplotlib.pyplot as plt\n",
        "from collections import Counter\n",
        "from keras.models import Sequential\n",
        "from keras.layers import Conv2D, MaxPooling2D, Activation, Dropout, Flatten, Dense\n",
        "from keras.preprocessing.image import ImageDataGenerator\n",
        "from tensorflow.keras.utils import img_to_array, load_img\n",
        "from PIL import Image\n",
        "from google.colab import drive\n",
        "import zipfile\n",
        "import splitfolders \n",
        "import torch\n",
        "import torch.nn as nn\n",
        "from torch.utils.data import Dataset\n",
        "from torch.utils.data import DataLoader\n",
        "from torchvision import transforms\n",
        "import torchvision.models as models\n",
        "import torch.optim as optim\n",
        "import torchvision\n",
        "from torchvision import transforms"
      ]
    },
    {
      "cell_type": "code",
      "source": [
        "#unziping images\n",
        "zip_ref = zipfile.ZipFile('/content/drive/MyDrive/Dataset.zip', 'r') #Opens the zip file in read mode\n",
        "zip_ref.extractall('/content/drive/MyDrive/Dataset') #Extracts the files into the Dataset folder\n",
        "zip_ref.close()"
      ],
      "metadata": {
        "id": "KoyScNohh9Wj"
      },
      "execution_count": 313,
      "outputs": []
    },
    {
      "cell_type": "code",
      "source": [
        "# Splitting data into training and test data (70% and 30% respectively)\n",
        "splitfolders.ratio(\"/content/drive/MyDrive/Dataset/Data for test\", output=\"/content/drive/MyDrive/Traintest\", seed=42, ratio=(.7, 0,.3), group_prefix=None)"
      ],
      "metadata": {
        "colab": {
          "base_uri": "https://localhost:8080/"
        },
        "id": "DbJE8SM4v9ww",
        "outputId": "e0db4e83-caae-4366-ec85-ec03f5a29358"
      },
      "execution_count": 314,
      "outputs": [
        {
          "output_type": "stream",
          "name": "stderr",
          "text": [
            "Copying files: 300 files [00:10, 27.94 files/s]\n"
          ]
        }
      ]
    },
    {
      "cell_type": "code",
      "source": [
        "train = \"/content/drive/MyDrive/Traintest/train\"\n",
        "test = \"/content/drive/MyDrive/Traintest/test\"\n",
        "\n",
        "img = load_img(train + \"/Bed/ALBI BED.jpg\", target_size=(100,100))\n",
        "plt.imshow(img)\n",
        "plt.axis(\"off\")\n",
        "plt.show()\n",
        "x = img_to_array(img)\n",
        "print(x.shape)"
      ],
      "metadata": {
        "colab": {
          "base_uri": "https://localhost:8080/",
          "height": 266
        },
        "id": "2LkzA7Nu7mmU",
        "outputId": "4b70a47c-dd8f-4375-ba6d-85d596a1a71d"
      },
      "execution_count": 315,
      "outputs": [
        {
          "output_type": "display_data",
          "data": {
            "text/plain": [
              "<Figure size 432x288 with 1 Axes>"
            ],
            "image/png": "[encoded data removed]"
          },
          "metadata": {
            "needs_background": "light"
          }
        },
        {
          "output_type": "stream",
          "name": "stdout",
          "text": [
            "(100, 100, 3)\n"
          ]
        }
      ]
    },
    {
      "cell_type": "code",
      "source": [
        "# Building CNN model \n",
        "model = Sequential()\n",
        "model.add(Conv2D(32,(3,3),input_shape = x.shape))\n",
        "model.add(Activation(\"relu\"))\n",
        "model.add(MaxPooling2D())\n",
        "model.add(Conv2D(32,(3,3)))\n",
        "model.add(Activation(\"relu\"))\n",
        "model.add(MaxPooling2D())\n",
        "model.add(Conv2D(64,(3,3)))\n",
        "model.add(Activation(\"relu\"))\n",
        "model.add(MaxPooling2D())\n",
        "model.add(Flatten())\n",
        "model.add(Dense(1024))\n",
        "model.add(Activation(\"relu\"))\n",
        "model.add(Dropout(0.5))\n",
        "model.add(Dense(3)) \n",
        "model.add(Activation(\"softmax\"))\n",
        "\n",
        "#Compiling the CNN model\n",
        "model.compile(loss = \"categorical_crossentropy\",optimizer = \"rmsprop\",metrics = [\"accuracy\"])\n",
        "\n",
        "#Model summary\n",
        "model.summary()"
      ],
      "metadata": {
        "colab": {
          "base_uri": "https://localhost:8080/"
        },
        "id": "cOurkbFRBSin",
        "outputId": "60cba984-a7fe-4710-a2d8-9f9d1d05fb4f"
      },
      "execution_count": 316,
      "outputs": [
        {
          "output_type": "stream",
          "name": "stdout",
          "text": [
            "Model: \"sequential_10\"\n",
            "_________________________________________________________________\n",
            " Layer (type)                Output Shape              Param #   \n",
            "=================================================================\n",
            " conv2d_30 (Conv2D)          (None, 98, 98, 32)        896       \n",
            "                                                                 \n",
            " activation_48 (Activation)  (None, 98, 98, 32)        0         \n",
            "                                                                 \n",
            " max_pooling2d_30 (MaxPoolin  (None, 49, 49, 32)       0         \n",
            " g2D)                                                            \n",
            "                                                                 \n",
            " conv2d_31 (Conv2D)          (None, 47, 47, 32)        9248      \n",
            "                                                                 \n",
            " activation_49 (Activation)  (None, 47, 47, 32)        0         \n",
            "                                                                 \n",
            " max_pooling2d_31 (MaxPoolin  (None, 23, 23, 32)       0         \n",
            " g2D)                                                            \n",
            "                                                                 \n",
            " conv2d_32 (Conv2D)          (None, 21, 21, 64)        18496     \n",
            "                                                                 \n",
            " activation_50 (Activation)  (None, 21, 21, 64)        0         \n",
            "                                                                 \n",
            " max_pooling2d_32 (MaxPoolin  (None, 10, 10, 64)       0         \n",
            " g2D)                                                            \n",
            "                                                                 \n",
            " flatten_10 (Flatten)        (None, 6400)              0         \n",
            "                                                                 \n",
            " dense_18 (Dense)            (None, 1024)              6554624   \n",
            "                                                                 \n",
            " activation_51 (Activation)  (None, 1024)              0         \n",
            "                                                                 \n",
            " dropout_10 (Dropout)        (None, 1024)              0         \n",
            "                                                                 \n",
            " dense_19 (Dense)            (None, 3)                 3075      \n",
            "                                                                 \n",
            " activation_52 (Activation)  (None, 3)                 0         \n",
            "                                                                 \n",
            "=================================================================\n",
            "Total params: 6,586,339\n",
            "Trainable params: 6,586,339\n",
            "Non-trainable params: 0\n",
            "_________________________________________________________________\n"
          ]
        }
      ]
    },
    {
      "cell_type": "code",
      "source": [
        "#Normalizing all image data\n",
        "train_scale = ImageDataGenerator(rescale= 1./255,\n",
        "shear_range = 0.3,\n",
        "horizontal_flip=True,\n",
        "zoom_range = 0.3)\n",
        "test_scale = ImageDataGenerator(rescale= 1./255)\n",
        "\n",
        "train_norm = train_scale.flow_from_directory(\n",
        "directory = train,\n",
        "target_size= x.shape[:2],\n",
        "batch_size = batch_size,\n",
        "color_mode= \"rgb\",\n",
        "class_mode= \"categorical\")\n",
        "test_norm = test_scale.flow_from_directory(\n",
        "directory = test,\n",
        "target_size= x.shape[:2],\n",
        "batch_size = batch_size,\n",
        "color_mode= \"rgb\",\n",
        "class_mode= \"categorical\")"
      ],
      "metadata": {
        "colab": {
          "base_uri": "https://localhost:8080/"
        },
        "id": "AzCfqUDTCWhR",
        "outputId": "bdf49f66-b04a-4889-9a6e-6bd44c7df94d"
      },
      "execution_count": 317,
      "outputs": [
        {
          "output_type": "stream",
          "name": "stdout",
          "text": [
            "Found 210 images belonging to 3 classes.\n",
            "Found 90 images belonging to 3 classes.\n"
          ]
        }
      ]
    },
    {
      "cell_type": "code",
      "source": [
        "#Training Model\n",
        "print(\"Training the CNN Model\")\n",
        "nnn = model.fit(train_norm,epochs = 10)"
      ],
      "metadata": {
        "colab": {
          "base_uri": "https://localhost:8080/"
        },
        "id": "UHem_JwtC03S",
        "outputId": "37f98504-b4b5-4317-d61d-b958dd406299"
      },
      "execution_count": 318,
      "outputs": [
        {
          "output_type": "stream",
          "name": "stdout",
          "text": [
            "Training the CNN Model\n",
            "Epoch 1/10\n",
            "4/4 [==============================] - 26s 4s/step - loss: 1.5193 - accuracy: 0.3476\n",
            "Epoch 2/10\n",
            "4/4 [==============================] - 17s 4s/step - loss: 1.0991 - accuracy: 0.4571\n",
            "Epoch 3/10\n",
            "4/4 [==============================] - 17s 4s/step - loss: 0.7386 - accuracy: 0.7381\n",
            "Epoch 4/10\n",
            "4/4 [==============================] - 17s 4s/step - loss: 0.8764 - accuracy: 0.6429\n",
            "Epoch 5/10\n",
            "4/4 [==============================] - 19s 5s/step - loss: 0.6365 - accuracy: 0.7143\n",
            "Epoch 6/10\n",
            "4/4 [==============================] - 17s 4s/step - loss: 0.4530 - accuracy: 0.7905\n",
            "Epoch 7/10\n",
            "4/4 [==============================] - 17s 4s/step - loss: 0.7655 - accuracy: 0.7048\n",
            "Epoch 8/10\n",
            "4/4 [==============================] - 17s 4s/step - loss: 0.4214 - accuracy: 0.8524\n",
            "Epoch 9/10\n",
            "4/4 [==============================] - 17s 4s/step - loss: 0.5880 - accuracy: 0.7714\n",
            "Epoch 10/10\n",
            "4/4 [==============================] - 16s 4s/step - loss: 0.3571 - accuracy: 0.8667\n"
          ]
        }
      ]
    },
    {
      "cell_type": "code",
      "source": [
        "#Evaluating the CNN Model on test data\n",
        "print(\"Evaluating model on test data: \")\n",
        "print(model.evaluate(test_norm))"
      ],
      "metadata": {
        "colab": {
          "base_uri": "https://localhost:8080/"
        },
        "id": "tfbwwewXKszN",
        "outputId": "64a9f6b1-656f-4261-a901-eceed665d41c"
      },
      "execution_count": 319,
      "outputs": [
        {
          "output_type": "stream",
          "name": "stdout",
          "text": [
            "Evaluating model on test data: \n"
          ]
        },
        {
          "output_type": "stream",
          "name": "stderr",
          "text": [
            "WARNING:tensorflow:6 out of the last 11 calls to <function Model.make_test_function.<locals>.test_function at 0x7f0d0d0490d0> triggered tf.function retracing. Tracing is expensive and the excessive number of tracings could be due to (1) creating @tf.function repeatedly in a loop, (2) passing tensors with different shapes, (3) passing Python objects instead of tensors. For (1), please define your @tf.function outside of the loop. For (2), @tf.function has reduce_retracing=True option that can avoid unnecessary retracing. For (3), please refer to https://www.tensorflow.org/guide/function#controlling_retracing and https://www.tensorflow.org/api_docs/python/tf/function for  more details.\n"
          ]
        },
        {
          "output_type": "stream",
          "name": "stdout",
          "text": [
            "2/2 [==============================] - 7s 3s/step - loss: 0.4773 - accuracy: 0.8222\n",
            "[0.47729921340942383, 0.8222222328186035]\n"
          ]
        }
      ]
    },
    {
      "cell_type": "code",
      "source": [
        "#Saving Model\n",
        "model.save('/content/model.h5', save_format=\"h5\")"
      ],
      "metadata": {
        "id": "tHcpLucsLsq1"
      },
      "execution_count": 320,
      "outputs": []
    },
    {
      "cell_type": "code",
      "source": [
        "#installing flask api dependencies\n",
        "!pip install flask-ngrok\n",
        "!pip install config"
      ],
      "metadata": {
        "colab": {
          "base_uri": "https://localhost:8080/"
        },
        "id": "WcZ40Byg8yE4",
        "outputId": "16d68d6b-e75a-487a-c3b5-ec503375a364"
      },
      "execution_count": 321,
      "outputs": [
        {
          "output_type": "stream",
          "name": "stdout",
          "text": [
            "Looking in indexes: https://pypi.org/simple, https://us-python.pkg.dev/colab-wheels/public/simple/\n",
            "Requirement already satisfied: flask-ngrok in /usr/local/lib/python3.8/dist-packages (0.0.25)\n",
            "Requirement already satisfied: requests in /usr/local/lib/python3.8/dist-packages (from flask-ngrok) (2.28.2)\n",
            "Requirement already satisfied: Flask>=0.8 in /usr/local/lib/python3.8/dist-packages (from flask-ngrok) (1.1.4)\n",
            "Requirement already satisfied: Werkzeug<2.0,>=0.15 in /usr/local/lib/python3.8/dist-packages (from Flask>=0.8->flask-ngrok) (1.0.1)\n",
            "Requirement already satisfied: click<8.0,>=5.1 in /usr/local/lib/python3.8/dist-packages (from Flask>=0.8->flask-ngrok) (7.1.2)\n",
            "Requirement already satisfied: Jinja2<3.0,>=2.10.1 in /usr/local/lib/python3.8/dist-packages (from Flask>=0.8->flask-ngrok) (2.11.3)\n",
            "Requirement already satisfied: itsdangerous<2.0,>=0.24 in /usr/local/lib/python3.8/dist-packages (from Flask>=0.8->flask-ngrok) (1.1.0)\n",
            "Requirement already satisfied: idna<4,>=2.5 in /usr/local/lib/python3.8/dist-packages (from requests->flask-ngrok) (2.8)\n",
            "Requirement already satisfied: certifi>=2017.4.17 in /usr/local/lib/python3.8/dist-packages (from requests->flask-ngrok) (2022.12.7)\n",
            "Requirement already satisfied: charset-normalizer<4,>=2 in /usr/local/lib/python3.8/dist-packages (from requests->flask-ngrok) (2.1.1)\n",
            "Requirement already satisfied: urllib3<1.27,>=1.21.1 in /usr/local/lib/python3.8/dist-packages (from requests->flask-ngrok) (1.24.3)\n",
            "Requirement already satisfied: MarkupSafe>=0.23 in /usr/local/lib/python3.8/dist-packages (from Jinja2<3.0,>=2.10.1->Flask>=0.8->flask-ngrok) (2.0.1)\n",
            "Looking in indexes: https://pypi.org/simple, https://us-python.pkg.dev/colab-wheels/public/simple/\n",
            "Requirement already satisfied: config in /usr/local/lib/python3.8/dist-packages (0.5.1)\n"
          ]
        }
      ]
    },
    {
      "cell_type": "code",
      "source": [
        "import flask\n",
        "from flask import Flask, render_template, request, flash, redirect, url_for\n",
        "from flask_ngrok import run_with_ngrok\n",
        "from pyngrok import ngrok\n",
        "from werkzeug.utils import secure_filename\n",
        "import os\n",
        "import config\n",
        "\n",
        "from keras.models import load_model \n",
        "from keras.preprocessing import image\n",
        "import numpy as np"
      ],
      "metadata": {
        "id": "6UTZs2Vl4qN7"
      },
      "execution_count": 322,
      "outputs": []
    },
    {
      "cell_type": "code",
      "source": [
        "image_folder = '/content/static/images/'\n",
        "app = Flask(__name__)\n",
        "run_with_ngrok(app)\n",
        "app.config[\"UPLOAD_FOLDER\"] = image_folder\n",
        "\n",
        "model = load_model('model.h5')"
      ],
      "metadata": {
        "id": "ch92iIPK81l6"
      },
      "execution_count": 323,
      "outputs": []
    },
    {
      "cell_type": "code",
      "source": [
        "@app.route('/', methods=['GET'])\n",
        "def home():\n",
        "  return render_template('/content/templates/index.html')"
      ],
      "metadata": {
        "id": "HKsbYf6MMiOi"
      },
      "execution_count": 324,
      "outputs": []
    },
    {
      "cell_type": "code",
      "source": [
        "@app.route('/', methods=['POST'])\n",
        "def predict():\n",
        "  # predicting images\n",
        "  imagefile = request.files['imagefile']\n",
        "  image_path = '/content/static/images/' + imagefile.filename \n",
        "  imagefile.save(image_path)\n",
        "\n",
        "  img = image.load_img(image_path, target_size=(300, 300))\n",
        "  x = image.img_to_array(img)\n",
        "  x = np.expand_dims(x, axis=0)\n",
        "\n",
        "  images = np.vstack([x])\n",
        "  classes = model.predict(images, batch_size=10)\n",
        "\n",
        "  pic = os.path.join(app.config['UPLOAD_FOLDER'], imagefile.filename)\n",
        "  \n",
        "  if classes=='Chair':\n",
        "    return render_template('index.html', user_image=pic, prediction_text='{} is the image of Chair'.format(imagefile.filename))\n",
        "  elif classes=='Bed':\n",
        "    return render_template('index.html', user_image=pic, prediction_text='{} is the image of Bed'.format(imagefile.filename))\n",
        "  else:\n",
        "    return render_template('index.html', user_image=pic, prediction_text='{} is the image of Sofa'.format(imagefile.filename))\n"
      ],
      "metadata": {
        "id": "uHvuIIMVM1-v"
      },
      "execution_count": 325,
      "outputs": []
    },
    {
      "cell_type": "code",
      "source": [
        "# app = Flask(__name__)\n",
        "# run_with_ngrok(app)\n",
        "if __name__=='__main__':\n",
        "  app.run()\n",
        "  # public_url = ngrok.connect(port = '8050')\n",
        "  # public_url"
      ],
      "metadata": {
        "colab": {
          "base_uri": "https://localhost:8080/"
        },
        "id": "QCPnjx8XOBbA",
        "outputId": "6f5f918f-593c-4b70-f6b9-48c533f46484"
      },
      "execution_count": 326,
      "outputs": [
        {
          "output_type": "stream",
          "name": "stdout",
          "text": [
            " * Serving Flask app \"__main__\" (lazy loading)\n",
            " * Environment: production\n",
            "\u001b[31m   WARNING: This is a development server. Do not use it in a production deployment.\u001b[0m\n",
            "\u001b[2m   Use a production WSGI server instead.\u001b[0m\n",
            " * Debug mode: off\n"
          ]
        },
        {
          "output_type": "stream",
          "name": "stderr",
          "text": [
            "INFO:werkzeug: * Running on http://127.0.0.1:5000/ (Press CTRL+C to quit)\n",
            "Exception in thread Thread-130:\n",
            "Traceback (most recent call last):\n",
            "  File \"/usr/local/lib/python3.8/dist-packages/urllib3/connection.py\", line 158, in _new_conn\n",
            "    conn = connection.create_connection(\n",
            "  File \"/usr/local/lib/python3.8/dist-packages/urllib3/util/connection.py\", line 80, in create_connection\n",
            "    raise err\n",
            "  File \"/usr/local/lib/python3.8/dist-packages/urllib3/util/connection.py\", line 70, in create_connection\n",
            "    sock.connect(sa)\n",
            "ConnectionRefusedError: [Errno 111] Connection refused\n",
            "\n",
            "During handling of the above exception, another exception occurred:\n",
            "\n",
            "Traceback (most recent call last):\n",
            "  File \"/usr/local/lib/python3.8/dist-packages/urllib3/connectionpool.py\", line 597, in urlopen\n",
            "    httplib_response = self._make_request(conn, method, url,\n",
            "  File \"/usr/local/lib/python3.8/dist-packages/urllib3/connectionpool.py\", line 354, in _make_request\n",
            "    conn.request(method, url, **httplib_request_kw)\n",
            "  File \"/usr/lib/python3.8/http/client.py\", line 1256, in request\n",
            "    self._send_request(method, url, body, headers, encode_chunked)\n",
            "  File \"/usr/lib/python3.8/http/client.py\", line 1302, in _send_request\n",
            "    self.endheaders(body, encode_chunked=encode_chunked)\n",
            "  File \"/usr/lib/python3.8/http/client.py\", line 1251, in endheaders\n",
            "    self._send_output(message_body, encode_chunked=encode_chunked)\n",
            "  File \"/usr/lib/python3.8/http/client.py\", line 1011, in _send_output\n",
            "    self.send(msg)\n",
            "  File \"/usr/lib/python3.8/http/client.py\", line 951, in send\n",
            "    self.connect()\n",
            "  File \"/usr/local/lib/python3.8/dist-packages/urllib3/connection.py\", line 181, in connect\n",
            "    conn = self._new_conn()\n",
            "  File \"/usr/local/lib/python3.8/dist-packages/urllib3/connection.py\", line 167, in _new_conn\n",
            "    raise NewConnectionError(\n",
            "urllib3.exceptions.NewConnectionError: <urllib3.connection.HTTPConnection object at 0x7f0d09fcea60>: Failed to establish a new connection: [Errno 111] Connection refused\n",
            "\n",
            "During handling of the above exception, another exception occurred:\n",
            "\n",
            "Traceback (most recent call last):\n",
            "  File \"/usr/local/lib/python3.8/dist-packages/requests/adapters.py\", line 439, in send\n",
            "    \"\"\"Sends PreparedRequest object. Returns Response object.\n",
            "  File \"/usr/local/lib/python3.8/dist-packages/urllib3/connectionpool.py\", line 637, in urlopen\n",
            "    retries = retries.increment(method, url, error=e, _pool=self,\n",
            "  File \"/usr/local/lib/python3.8/dist-packages/urllib3/util/retry.py\", line 399, in increment\n",
            "    raise MaxRetryError(_pool, url, error or ResponseError(cause))\n",
            "urllib3.exceptions.MaxRetryError: HTTPConnectionPool(host='localhost', port=4040): Max retries exceeded with url: /api/tunnels (Caused by NewConnectionError('<urllib3.connection.HTTPConnection object at 0x7f0d09fcea60>: Failed to establish a new connection: [Errno 111] Connection refused'))\n",
            "\n",
            "During handling of the above exception, another exception occurred:\n",
            "\n",
            "Traceback (most recent call last):\n",
            "  File \"/usr/lib/python3.8/threading.py\", line 932, in _bootstrap_inner\n",
            "    self.run()\n",
            "  File \"/usr/lib/python3.8/threading.py\", line 1254, in run\n",
            "    self.function(*self.args, **self.kwargs)\n",
            "  File \"/usr/local/lib/python3.8/dist-packages/flask_ngrok.py\", line 70, in start_ngrok\n",
            "    ngrok_address = _run_ngrok()\n",
            "  File \"/usr/local/lib/python3.8/dist-packages/flask_ngrok.py\", line 35, in _run_ngrok\n",
            "    tunnel_url = requests.get(localhost_url).text  # Get the tunnel information\n",
            "  File \"/usr/local/lib/python3.8/dist-packages/requests/api.py\", line 75, in get\n",
            "    \n",
            "  File \"/usr/local/lib/python3.8/dist-packages/requests/api.py\", line 60, in request\n",
            "    \n",
            "  File \"/usr/local/lib/python3.8/dist-packages/requests/sessions.py\", line 533, in request\n",
            "    :class:`Request`.\n",
            "  File \"/usr/local/lib/python3.8/dist-packages/requests/sessions.py\", line 646, in send\n",
            "    \n",
            "  File \"/usr/local/lib/python3.8/dist-packages/requests/adapters.py\", line 516, in send\n",
            "    )\n",
            "requests.exceptions.ConnectionError: HTTPConnectionPool(host='localhost', port=4040): Max retries exceeded with url: /api/tunnels (Caused by NewConnectionError('<urllib3.connection.HTTPConnection object at 0x7f0d09fcea60>: Failed to establish a new connection: [Errno 111] Connection refused'))\n"
          ]
        }
      ]
    }
  ]
}